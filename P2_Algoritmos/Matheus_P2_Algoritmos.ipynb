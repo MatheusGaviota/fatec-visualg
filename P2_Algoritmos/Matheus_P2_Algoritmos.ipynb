{
  "nbformat": 4,
  "nbformat_minor": 0,
  "metadata": {
    "colab": {
      "provenance": []
    },
    "kernelspec": {
      "name": "python3",
      "display_name": "Python 3"
    },
    "language_info": {
      "name": "python"
    }
  },
  "cells": [
    {
      "cell_type": "markdown",
      "source": [
        "1- João Papo-de-Pescador, homem de bem, comprou um microcomputador para controlar o rendimento diário de seu trabalho. Toda vez que ele traz um peso de peixes maior que o estabelecido pelo regulamento de pesca do estado de São Paulo (50 quilos) deve pagar umamulta de R$ 4,00 por quilo excedente. João precisa que você faça um programa que leia a variável peso (peso de peixes) e calcule o excesso. Gravar na variável excesso a quantidade de quilos além do limite e na variável multa o valor da multa que João deverá pagar. Imprima os dados do programa com as mensagens adequadas."
      ],
      "metadata": {
        "id": "kQk4lS0BVLwg"
      }
    },
    {
      "cell_type": "code",
      "execution_count": 27,
      "metadata": {
        "colab": {
          "base_uri": "https://localhost:8080/"
        },
        "id": "8toT87tbVJK3",
        "outputId": "c39cf59f-c0b9-442f-b3c7-bdf11a5c87ff"
      },
      "outputs": [
        {
          "output_type": "stream",
          "name": "stdout",
          "text": [
            "Digite o peso dos peixes em quilos: 55.5\n",
            "Você deverá pagar R$22.00 pois você tem 55.5 quilos e portanto 5.50 quilos excedente\n"
          ]
        }
      ],
      "source": [
        "peso = float(input(\"Digite o peso dos peixes em quilos: \"))\n",
        "excesso = peso - 50 if peso > 50 else 0\n",
        "multa = excesso * 4\n",
        "\n",
        "print(f'Você deverá pagar R${multa:.2f} pois você tem {peso} quilos e portanto {excesso:.2f} quilos excedente')"
      ]
    },
    {
      "cell_type": "markdown",
      "source": [
        "2- Escreva um algoritmo que calcule a média dos números digitados se eles forem pares. Termine a leitura se o usuário digitar 0."
      ],
      "metadata": {
        "id": "aBLoln77aXWE"
      }
    },
    {
      "cell_type": "code",
      "source": [
        "numeros = []\n",
        "num = 1\n",
        "media = True\n",
        "while num != 0:\n",
        "  num = int(input('Digite o número: '))\n",
        "  if num % 2 == 1:\n",
        "    media = False\n",
        "  elif num != 0:\n",
        "    numeros.append(num)\n",
        "if media:\n",
        "  media = sum(numeros) / (len(numeros))\n",
        "  print(f'A média dos números é {media}')\n",
        "else:\n",
        "  print('Você digitou um número ímpar')"
      ],
      "metadata": {
        "colab": {
          "base_uri": "https://localhost:8080/"
        },
        "id": "vu0OTlP6aXE1",
        "outputId": "663b3269-8e30-481d-9812-cef37fe3c67f"
      },
      "execution_count": 13,
      "outputs": [
        {
          "output_type": "stream",
          "name": "stdout",
          "text": [
            "Digite o número: 2\n",
            "Digite o número: 4\n",
            "Digite o número: 6\n",
            "Digite o número: 8\n",
            "Digite o número: 0\n",
            "A média dos números é 5.0\n"
          ]
        }
      ]
    },
    {
      "cell_type": "markdown",
      "source": [
        "3- Supondo que a população de um país A seja da ordem de 80000 habitantes com uma taxa anual de crescimento de 3% e que a população de B seja 200000 habitantes com uma taxa  de  crescimento  de  1.5%.  Faça  um  programa  que  calcule  e  escreva  o  número  de  anos necessários para que a população do país A ultrapasse ou iguale a população do país B, mantidas as taxas de crescimento."
      ],
      "metadata": {
        "id": "hVZVUFO2htTH"
      }
    },
    {
      "cell_type": "code",
      "source": [
        "habitantesa = 80000\n",
        "crescimentoa = 0.03\n",
        "habitantesb = 200000\n",
        "crescimentob = 0.015\n",
        "anos = 0\n",
        "\n",
        "while habitantesa < habitantesb:\n",
        "  anos += 1\n",
        "  habitantesa *= 1 + crescimentoa\n",
        "  habitantesb *= 1 + crescimentob\n",
        "\n",
        "print(f'Levou {anos} anos para o país A ultrapassar ou igualar o país B')"
      ],
      "metadata": {
        "colab": {
          "base_uri": "https://localhost:8080/"
        },
        "id": "QnyvkvVyjRnO",
        "outputId": "c87b90cb-3009-4861-80df-e6a7aebdc7bc"
      },
      "execution_count": 18,
      "outputs": [
        {
          "output_type": "stream",
          "name": "stdout",
          "text": [
            "Levou 63 anos para o país A ultrapassar ou igualar o país B\n"
          ]
        }
      ]
    },
    {
      "cell_type": "markdown",
      "source": [
        "4- Escreva um programa que leia um valor correspondente ao número de jogadores de um time de vôlei. O programa deve solicitar a altura de cada um dos jogadores e ao final informar a altura média do time."
      ],
      "metadata": {
        "id": "oXW_Jbl7lmm1"
      }
    },
    {
      "cell_type": "code",
      "source": [
        "soma = 0\n",
        "time = int(input('Digite quantos jogadores tem no time: '))\n",
        "for i in range(time):\n",
        "  soma += float(input(f'Digite a altura do {i+1}º jogador em metros: '))\n",
        "media = soma / time\n",
        "print(f'A altura média do time é {media:.2f} metros')"
      ],
      "metadata": {
        "colab": {
          "base_uri": "https://localhost:8080/"
        },
        "id": "1rF_4vP0lmVk",
        "outputId": "a5204590-0be3-41fb-fbb8-3290713288f7"
      },
      "execution_count": 25,
      "outputs": [
        {
          "output_type": "stream",
          "name": "stdout",
          "text": [
            "Digite quantos jogadores tem no time: 4\n",
            "Digite a altura do 1º jogador em metros: 1.8\n",
            "Digite a altura do 2º jogador em metros: 1.85\n",
            "Digite a altura do 3º jogador em metros: 1.7\n",
            "Digite a altura do 4º jogador em metros: 1.7\n",
            "A altura média do time é 1.76 metros\n"
          ]
        }
      ]
    }
  ]
}