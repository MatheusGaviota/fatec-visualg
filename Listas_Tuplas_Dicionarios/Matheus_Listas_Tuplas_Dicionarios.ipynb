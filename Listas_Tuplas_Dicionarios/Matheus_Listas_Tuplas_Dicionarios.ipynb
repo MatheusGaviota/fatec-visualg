{
  "nbformat": 4,
  "nbformat_minor": 0,
  "metadata": {
    "colab": {
      "provenance": []
    },
    "kernelspec": {
      "name": "python3",
      "display_name": "Python 3"
    },
    "language_info": {
      "name": "python"
    }
  },
  "cells": [
    {
      "cell_type": "markdown",
      "source": [
        "**Atividade Prática: Explorando Listas, Tuplas e Dicionários**\n",
        "\n",
        "**Objetivo:** Criar, manipular e iterar sobre listas, tuplas e dicionários em Python.\n",
        "\n",
        "Criar as seguintes estruturas de dados:\n",
        "\n",
        "• Uma lista de cores favoritas.\n",
        "\n",
        "• Uma tupla de nomes de países.\n",
        "\n",
        "• Um dicionário de informações pessoais, onde as chaves são 'nome', 'idade' e 'cidade', escolha os valores a serem fornecidos."
      ],
      "metadata": {
        "id": "WtRQzHW-iKV7"
      }
    },
    {
      "cell_type": "code",
      "execution_count": 2,
      "metadata": {
        "id": "VTz_7aMMiGlO"
      },
      "outputs": [],
      "source": [
        "#Lista\n",
        "cores = ['preto', 'amarelo', 'branco', 'vermelho']\n",
        "#Tupla\n",
        "paises = ('Brasil', 'Canadá', 'México', 'Guatemala')\n",
        "#Dicionário\n",
        "informacoes = {'nome': 'Matheus', 'idade': 18, 'cidade': 'Ribeirão Pires'}"
      ]
    },
    {
      "cell_type": "code",
      "source": [
        "print(cores)\n",
        "print(paises)\n",
        "print(informacoes)"
      ],
      "metadata": {
        "colab": {
          "base_uri": "https://localhost:8080/"
        },
        "id": "tUDMz37wrVx6",
        "outputId": "a2b5ac18-66f2-4b0c-f2c7-726ea1787cd5"
      },
      "execution_count": null,
      "outputs": [
        {
          "output_type": "stream",
          "name": "stdout",
          "text": [
            "['preto', 'amarelo', 'branco', 'vermelho']\n",
            "('Brasil', 'Canadá', 'México', 'Guatemala')\n",
            "{'nome': 'Matheus', 'idade': 18, 'cidade': 'Ribeirão Pires'}\n"
          ]
        }
      ]
    },
    {
      "cell_type": "markdown",
      "source": [
        "**Manipulação das Estruturas de Dados:**\n",
        "\n",
        "Realizar as seguintes operações em cada estrutura de dados:\n",
        "\n",
        "• Adicionar um novo elemento à lista de cores favoritas.\n",
        "\n",
        "• Modificar um elemento da tupla de nomes de países.\n",
        "\n",
        "• Adicionar uma nova entrada ao dicionário de informações pessoais.\n",
        "\n",
        "• Remover uma entrada do dicionário de informações pessoais."
      ],
      "metadata": {
        "id": "02OlXaHflsrK"
      }
    },
    {
      "cell_type": "code",
      "source": [
        "#Lista\n",
        "cores.append('violeta')"
      ],
      "metadata": {
        "id": "tONqDGsXmpxT"
      },
      "execution_count": 3,
      "outputs": []
    },
    {
      "cell_type": "code",
      "source": [
        "#Tupla\n",
        "paises = list(paises)\n",
        "paises.append('Luxemburgo')\n",
        "paises = tuple(paises)"
      ],
      "metadata": {
        "id": "fnUaMqcAn7x5"
      },
      "execution_count": 4,
      "outputs": []
    },
    {
      "cell_type": "code",
      "source": [
        "#Dicionário\n",
        "informacoes['profissão'] = 'Programador'"
      ],
      "metadata": {
        "id": "jVjGp2T8qDcT"
      },
      "execution_count": 5,
      "outputs": []
    },
    {
      "cell_type": "code",
      "source": [
        "print(cores)\n",
        "print(paises)\n",
        "print(informacoes)"
      ],
      "metadata": {
        "colab": {
          "base_uri": "https://localhost:8080/"
        },
        "id": "RehH-A1dq15_",
        "outputId": "4945102d-e767-4cf4-c8cc-cb41c41a3bb3"
      },
      "execution_count": null,
      "outputs": [
        {
          "output_type": "stream",
          "name": "stdout",
          "text": [
            "['preto', 'amarelo', 'branco', 'vermelho', 'violeta']\n",
            "('Brasil', 'Canadá', 'México', 'Guatemala', 'Luxemburgo')\n",
            "{'nome': 'Matheus', 'idade': 18, 'cidade': 'Ribeirão Pires', 'profissão': 'Programador'}\n"
          ]
        }
      ]
    },
    {
      "cell_type": "markdown",
      "source": [
        "**Iteração sobre os Elementos:**\n",
        "\n",
        "Iterar sobre os elementos de cada estrutura de dados e exibir os resultados na\n",
        "tela. Usar um loop for para isso.\n",
        "\n",
        "• Para a lista de cores favoritas, imprimir cada cor em uma linha separada.\n",
        "\n",
        "• Para a tupla de nomes de países, imprimir cada país em uma linha separada.\n",
        "\n",
        "• Para o dicionário de informações pessoais, imprimir cada chave e seu\n",
        "respectivo valor em uma linha separada."
      ],
      "metadata": {
        "id": "mK8XpE5lrtAG"
      }
    },
    {
      "cell_type": "code",
      "source": [
        "#Lista\n",
        "for cor in cores:\n",
        "  print(cor)"
      ],
      "metadata": {
        "colab": {
          "base_uri": "https://localhost:8080/"
        },
        "id": "aK3TmOsH7ATr",
        "outputId": "2e78ef19-90f9-4c57-e460-40cf82a421a4"
      },
      "execution_count": 6,
      "outputs": [
        {
          "output_type": "stream",
          "name": "stdout",
          "text": [
            "preto\n",
            "amarelo\n",
            "branco\n",
            "vermelho\n",
            "violeta\n"
          ]
        }
      ]
    },
    {
      "cell_type": "code",
      "source": [
        "#Tupla\n",
        "for pais in paises:\n",
        "  print(pais)"
      ],
      "metadata": {
        "colab": {
          "base_uri": "https://localhost:8080/"
        },
        "id": "YiGiwQJC7bh0",
        "outputId": "858e4986-27c5-49f7-c340-f7d6b878ff16"
      },
      "execution_count": 7,
      "outputs": [
        {
          "output_type": "stream",
          "name": "stdout",
          "text": [
            "Brasil\n",
            "Canadá\n",
            "México\n",
            "Guatemala\n",
            "Luxemburgo\n"
          ]
        }
      ]
    },
    {
      "cell_type": "code",
      "source": [
        "#Dicionário\n",
        "for informacao in informacoes:\n",
        "  print(informacao + \":\", informacoes[informacao])"
      ],
      "metadata": {
        "colab": {
          "base_uri": "https://localhost:8080/"
        },
        "id": "ijAwr5Cn7qZN",
        "outputId": "2f45466e-775e-481e-9197-b25145b5e022"
      },
      "execution_count": 8,
      "outputs": [
        {
          "output_type": "stream",
          "name": "stdout",
          "text": [
            "nome: Matheus\n",
            "idade: 18\n",
            "cidade: Ribeirão Pires\n",
            "profissão: Programador\n"
          ]
        }
      ]
    }
  ]
}